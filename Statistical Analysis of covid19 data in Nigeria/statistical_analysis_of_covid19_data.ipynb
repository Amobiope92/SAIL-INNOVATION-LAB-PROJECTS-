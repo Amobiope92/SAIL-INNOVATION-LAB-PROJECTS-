{
  "cells": [
    {
      "cell_type": "markdown",
      "metadata": {
        "id": "M9H4U3HYMm1q"
      },
      "source": [
        "# **Exercise 3 (Group 9)**\n"
      ]
    },
    {
      "cell_type": "markdown",
      "metadata": {
        "id": "4Y5dJMcYM1tA"
      },
      "source": [
        "In this exercise, we are to do the following:\n",
        "- Form a group of choice consisting of 4-6 participants and carefully select our group members.\n",
        "- Summarize the covid-19 data by regions\n",
        "- Test each region against others to test if their average death number from covid-19 is the same\n",
        "- Present our tests as Data Scientists and upload your final code and conclusion onto the google drive under your group's name.\n",
        "\n",
        "------"
      ]
    },
    {
      "cell_type": "markdown",
      "metadata": {
        "id": "iDE-1NBFNHEn"
      },
      "source": [
        "We start by reading our dataset as a dataframe below."
      ]
    },
    {
      "cell_type": "code",
      "execution_count": 14,
      "metadata": {
        "id": "5p0LH_ZxN1N6",
        "vscode": {
          "languageId": "r"
        }
      },
      "outputs": [],
      "source": [
        "#Importing the necessary libraries\n",
        "library(dplyr)\n",
        "library(tidyverse)\n",
        "library(ggplot2)"
      ]
    },
    {
      "cell_type": "code",
      "execution_count": 15,
      "metadata": {
        "id": "IEbixAiUM00Q",
        "vscode": {
          "languageId": "r"
        }
      },
      "outputs": [],
      "source": [
        "#Reading and loading our covid-19 dataset into our notebook\n",
        "covid_data <- read.csv(\"/content/covid_19.csv\")"
      ]
    },
    {
      "cell_type": "markdown",
      "metadata": {
        "id": "KQw_j9blNpt_"
      },
      "source": [
        "Next, we view our dataframe, check for null values, check for duplicat and the structure of our dataframe."
      ]
    },
    {
      "cell_type": "code",
      "execution_count": 16,
      "metadata": {
        "colab": {
          "base_uri": "https://localhost:8080/",
          "height": 277
        },
        "id": "wVdPcit3Nql4",
        "outputId": "e367f83c-0a96-4d26-9912-ba94362acdf8",
        "vscode": {
          "languageId": "r"
        }
      },
      "outputs": [
        {
          "name": "stdout",
          "output_type": "stream",
          "text": [
            "'data.frame':\t4100 obs. of  11 variables:\n",
            " $ X               : int  1 2 3 4 5 6 7 8 9 10 ...\n",
            " $ states          : chr  \"Abia\" \"Adamawa\" \"Akwa Ibom\" \"Anambra\" ...\n",
            " $ total_confirmed : int  2121 1157 4487 2489 1851 1290 1907 1532 696 4705 ...\n",
            " $ new_confirmed   : int  77 0 59 43 25 4 0 176 6 144 ...\n",
            " $ total_recoveries: int  2010 1098 4349 2405 1791 1226 1512 1317 654 2556 ...\n",
            " $ new_recoveries  : int  8 0 31 19 15 10 0 0 23 0 ...\n",
            " $ total_death     : int  33 32 44 19 23 28 25 38 25 110 ...\n",
            " $ new_death       : int  2 0 0 0 0 0 0 0 0 0 ...\n",
            " $ week            : chr  \"2021-12-26\" \"2021-12-26\" \"2021-12-26\" \"2021-12-26\" ...\n",
            " $ day             : chr  \"Sunday\" \"Sunday\" \"Sunday\" \"Sunday\" ...\n",
            " $ month           : chr  \"December\" \"December\" \"December\" \"December\" ...\n"
          ]
        },
        {
          "data": {
            "text/html": [
              "11"
            ],
            "text/latex": [
              "11"
            ],
            "text/markdown": [
              "11"
            ],
            "text/plain": [
              "[1] 11"
            ]
          },
          "metadata": {},
          "output_type": "display_data"
        },
        {
          "data": {
            "text/html": [
              "0"
            ],
            "text/latex": [
              "0"
            ],
            "text/markdown": [
              "0"
            ],
            "text/plain": [
              "[1] 0"
            ]
          },
          "metadata": {},
          "output_type": "display_data"
        },
        {
          "data": {
            "text/html": [
              "0"
            ],
            "text/latex": [
              "0"
            ],
            "text/markdown": [
              "0"
            ],
            "text/plain": [
              "[1] 0"
            ]
          },
          "metadata": {},
          "output_type": "display_data"
        }
      ],
      "source": [
        "#viewing and checking the structure of our dataset\n",
        "view(covid_data)\n",
        "str(covid_data) #checking for the structure of our dataset\n",
        "length(names(covid_data)) #checking for the number of columns in our dataset\n",
        "sum(is.na(covid_data)) #checking for number of null values\n",
        "sum(covid_data[duplicated(covid_data), ]) #checking for the number of duplicate values."
      ]
    },
    {
      "cell_type": "markdown",
      "metadata": {
        "id": "UVKey_-KOIjr"
      },
      "source": [
        "From the above result, our dataset consists of 11 columns with 4 of them being character datatypes and 7 of them being integers.\n",
        "Our also dataset contains 0 null and no duplicates."
      ]
    },
    {
      "cell_type": "markdown",
      "metadata": {
        "id": "8uNK_luUOM2Q"
      },
      "source": [
        "To summarize our covid data by regions, we assign each state to their regions and create a new column that contains these regions as an identity of the states."
      ]
    },
    {
      "cell_type": "code",
      "execution_count": 17,
      "metadata": {
        "id": "kdt0WpVBOJpA",
        "vscode": {
          "languageId": "r"
        }
      },
      "outputs": [],
      "source": [
        "# summarizing the covid data by regions and creating a new column, \"region\" and assigning the various states to their unique region.\n",
        "covid_data <- covid_data %>%\n",
        "  mutate(region = sapply(states, function(x) {\n",
        "    if (x %in% c('Benue','Kogi','Kwara','Nasarawa','Niger','Plateau','FCT')) {\n",
        "      'North Central'\n",
        "    } else if (x %in% c('Adamawa','Bauchi','Borno','Gombe','Taraba','Yobe')) {\n",
        "      'North East'\n",
        "    } else if (x %in% c('Jigawa','Kaduna','Kano','Katsina','Kebbi','Sokoto','Zamfara')) {\n",
        "      'North West'\n",
        "    } else if (x %in% c('Abia','Anambra','Ebonyi','Enugu','Imo')) {\n",
        "      'South East'\n",
        "    } else if (x %in% c('Akwa Ibom','Bayelsa','Cross River','Delta','Edo','Rivers')) {\n",
        "      'South South'\n",
        "    } else if (x %in% c('Ekiti','Lagos','Ogun','Ondo','Osun','Oyo')) {\n",
        "      'South West'\n",
        "    } else {\n",
        "      NA  # Default case if state is not found\n",
        "    }\n",
        "  }))"
      ]
    },
    {
      "cell_type": "markdown",
      "metadata": {
        "id": "_jcJg-7DOVVA"
      },
      "source": [
        "Checking our covid data to ensure that the region column has been added"
      ]
    },
    {
      "cell_type": "code",
      "execution_count": 18,
      "metadata": {
        "colab": {
          "base_uri": "https://localhost:8080/",
          "height": 286
        },
        "id": "Da6Eld89OWCg",
        "outputId": "5b11a299-13e0-4ce7-d6cc-0c3ce67e072b",
        "vscode": {
          "languageId": "r"
        }
      },
      "outputs": [
        {
          "data": {
            "text/html": [
              "<table class=\"dataframe\">\n",
              "<caption>A data.frame: 6 × 12</caption>\n",
              "<thead>\n",
              "\t<tr><th></th><th scope=col>X</th><th scope=col>states</th><th scope=col>total_confirmed</th><th scope=col>new_confirmed</th><th scope=col>total_recoveries</th><th scope=col>new_recoveries</th><th scope=col>total_death</th><th scope=col>new_death</th><th scope=col>week</th><th scope=col>day</th><th scope=col>month</th><th scope=col>region</th></tr>\n",
              "\t<tr><th></th><th scope=col>&lt;int&gt;</th><th scope=col>&lt;chr&gt;</th><th scope=col>&lt;int&gt;</th><th scope=col>&lt;int&gt;</th><th scope=col>&lt;int&gt;</th><th scope=col>&lt;int&gt;</th><th scope=col>&lt;int&gt;</th><th scope=col>&lt;int&gt;</th><th scope=col>&lt;chr&gt;</th><th scope=col>&lt;chr&gt;</th><th scope=col>&lt;chr&gt;</th><th scope=col>&lt;chr&gt;</th></tr>\n",
              "</thead>\n",
              "<tbody>\n",
              "\t<tr><th scope=row>1</th><td>1</td><td>Abia     </td><td>2121</td><td>77</td><td>2010</td><td> 8</td><td>33</td><td>2</td><td>2021-12-26</td><td>Sunday</td><td>December</td><td>South East </td></tr>\n",
              "\t<tr><th scope=row>2</th><td>2</td><td>Adamawa  </td><td>1157</td><td> 0</td><td>1098</td><td> 0</td><td>32</td><td>0</td><td>2021-12-26</td><td>Sunday</td><td>December</td><td>North East </td></tr>\n",
              "\t<tr><th scope=row>3</th><td>3</td><td>Akwa Ibom</td><td>4487</td><td>59</td><td>4349</td><td>31</td><td>44</td><td>0</td><td>2021-12-26</td><td>Sunday</td><td>December</td><td>South South</td></tr>\n",
              "\t<tr><th scope=row>4</th><td>4</td><td>Anambra  </td><td>2489</td><td>43</td><td>2405</td><td>19</td><td>19</td><td>0</td><td>2021-12-26</td><td>Sunday</td><td>December</td><td>South East </td></tr>\n",
              "\t<tr><th scope=row>5</th><td>5</td><td>Bauchi   </td><td>1851</td><td>25</td><td>1791</td><td>15</td><td>23</td><td>0</td><td>2021-12-26</td><td>Sunday</td><td>December</td><td>North East </td></tr>\n",
              "\t<tr><th scope=row>6</th><td>6</td><td>Bayelsa  </td><td>1290</td><td> 4</td><td>1226</td><td>10</td><td>28</td><td>0</td><td>2021-12-26</td><td>Sunday</td><td>December</td><td>South South</td></tr>\n",
              "</tbody>\n",
              "</table>\n"
            ],
            "text/latex": [
              "A data.frame: 6 × 12\n",
              "\\begin{tabular}{r|llllllllllll}\n",
              "  & X & states & total\\_confirmed & new\\_confirmed & total\\_recoveries & new\\_recoveries & total\\_death & new\\_death & week & day & month & region\\\\\n",
              "  & <int> & <chr> & <int> & <int> & <int> & <int> & <int> & <int> & <chr> & <chr> & <chr> & <chr>\\\\\n",
              "\\hline\n",
              "\t1 & 1 & Abia      & 2121 & 77 & 2010 &  8 & 33 & 2 & 2021-12-26 & Sunday & December & South East \\\\\n",
              "\t2 & 2 & Adamawa   & 1157 &  0 & 1098 &  0 & 32 & 0 & 2021-12-26 & Sunday & December & North East \\\\\n",
              "\t3 & 3 & Akwa Ibom & 4487 & 59 & 4349 & 31 & 44 & 0 & 2021-12-26 & Sunday & December & South South\\\\\n",
              "\t4 & 4 & Anambra   & 2489 & 43 & 2405 & 19 & 19 & 0 & 2021-12-26 & Sunday & December & South East \\\\\n",
              "\t5 & 5 & Bauchi    & 1851 & 25 & 1791 & 15 & 23 & 0 & 2021-12-26 & Sunday & December & North East \\\\\n",
              "\t6 & 6 & Bayelsa   & 1290 &  4 & 1226 & 10 & 28 & 0 & 2021-12-26 & Sunday & December & South South\\\\\n",
              "\\end{tabular}\n"
            ],
            "text/markdown": [
              "\n",
              "A data.frame: 6 × 12\n",
              "\n",
              "| <!--/--> | X &lt;int&gt; | states &lt;chr&gt; | total_confirmed &lt;int&gt; | new_confirmed &lt;int&gt; | total_recoveries &lt;int&gt; | new_recoveries &lt;int&gt; | total_death &lt;int&gt; | new_death &lt;int&gt; | week &lt;chr&gt; | day &lt;chr&gt; | month &lt;chr&gt; | region &lt;chr&gt; |\n",
              "|---|---|---|---|---|---|---|---|---|---|---|---|---|\n",
              "| 1 | 1 | Abia      | 2121 | 77 | 2010 |  8 | 33 | 2 | 2021-12-26 | Sunday | December | South East  |\n",
              "| 2 | 2 | Adamawa   | 1157 |  0 | 1098 |  0 | 32 | 0 | 2021-12-26 | Sunday | December | North East  |\n",
              "| 3 | 3 | Akwa Ibom | 4487 | 59 | 4349 | 31 | 44 | 0 | 2021-12-26 | Sunday | December | South South |\n",
              "| 4 | 4 | Anambra   | 2489 | 43 | 2405 | 19 | 19 | 0 | 2021-12-26 | Sunday | December | South East  |\n",
              "| 5 | 5 | Bauchi    | 1851 | 25 | 1791 | 15 | 23 | 0 | 2021-12-26 | Sunday | December | North East  |\n",
              "| 6 | 6 | Bayelsa   | 1290 |  4 | 1226 | 10 | 28 | 0 | 2021-12-26 | Sunday | December | South South |\n",
              "\n"
            ],
            "text/plain": [
              "  X states    total_confirmed new_confirmed total_recoveries new_recoveries\n",
              "1 1 Abia      2121            77            2010              8            \n",
              "2 2 Adamawa   1157             0            1098              0            \n",
              "3 3 Akwa Ibom 4487            59            4349             31            \n",
              "4 4 Anambra   2489            43            2405             19            \n",
              "5 5 Bauchi    1851            25            1791             15            \n",
              "6 6 Bayelsa   1290             4            1226             10            \n",
              "  total_death new_death week       day    month    region     \n",
              "1 33          2         2021-12-26 Sunday December South East \n",
              "2 32          0         2021-12-26 Sunday December North East \n",
              "3 44          0         2021-12-26 Sunday December South South\n",
              "4 19          0         2021-12-26 Sunday December South East \n",
              "5 23          0         2021-12-26 Sunday December North East \n",
              "6 28          0         2021-12-26 Sunday December South South"
            ]
          },
          "metadata": {},
          "output_type": "display_data"
        }
      ],
      "source": [
        "#checking for the first 6 rows in our data after creating the region column\n",
        "head(covid_data)"
      ]
    },
    {
      "cell_type": "code",
      "execution_count": 35,
      "metadata": {
        "colab": {
          "base_uri": "https://localhost:8080/",
          "height": 489
        },
        "id": "GtoQFuCCRw-1",
        "outputId": "89a2594d-98fd-4bec-d346-fd69f7ead62c",
        "vscode": {
          "languageId": "r"
        }
      },
      "outputs": [
        {
          "name": "stderr",
          "output_type": "stream",
          "text": [
            "Warning message in geom_histogram(notch = TRUE, fill = \"gold\", colour = \"gold\", :\n",
            "“\u001b[1m\u001b[22mIgnoring unknown parameters: `notch`”\n",
            "\u001b[1m\u001b[22m`stat_bin()` using `bins = 30`. Pick better value with `binwidth`.\n"
          ]
        },
        {
          "data": {
            "image/png": "[encoded data removed]",
            "text/plain": [
              "plot without title"
            ]
          },
          "metadata": {
            "image/png": {
              "height": 420,
              "width": 420
            }
          },
          "output_type": "display_data"
        }
      ],
      "source": [
        "covid_19_death_plot <- ggplot(covid_data,aes(total_death))+\n",
        "  geom_histogram( notch = TRUE, fill = \"gold\", colour = 'gold', size = 1)+\n",
        "  labs(title = \"Distribution of Total deaths\") +\n",
        "  xlab(\"Deaths\") + ylab(\"value\")\n",
        "\n",
        "\n",
        "covid_19_death_plot"
      ]
    },
    {
      "cell_type": "code",
      "execution_count": 33,
      "metadata": {
        "colab": {
          "base_uri": "https://localhost:8080/",
          "height": 437
        },
        "id": "SabRBZULP0RO",
        "outputId": "f591e06a-8678-4eae-ed87-101daaf06a5c",
        "vscode": {
          "languageId": "r"
        }
      },
      "outputs": [
        {
          "data": {
            "image/png": "[encoded data removed]",
            "text/plain": [
              "plot without title"
            ]
          },
          "metadata": {
            "image/png": {
              "height": 420,
              "width": 420
            }
          },
          "output_type": "display_data"
        }
      ],
      "source": [
        "covid_19_reg_box <- ggplot(covid_data,aes(x = region,y =total_death))+\n",
        "  geom_boxplot( notch = TRUE, fill = \"red\", colour = 'red', size = 1)+\n",
        "  labs(title = \"Total Death Rates by Region\") +\n",
        "  xlab(\"Region\") + ylab(\"Total date\")\n",
        "\n",
        "\n",
        "covid_19_reg_box"
      ]
    },
    {
      "cell_type": "markdown",
      "metadata": {
        "id": "cnAQDWarOb6T"
      },
      "source": [
        "Seeing that data has been grouped by region, we consider carrying our hypothesis.\n",
        "\n",
        "Our hypothesis test seeks to test each region against others to see if their average death number (mean death) from covid-19 is the same.\n",
        "To achieve this, we subset the columns we will need for this task which are: region and total_death column."
      ]
    },
    {
      "cell_type": "code",
      "execution_count": 19,
      "metadata": {
        "colab": {
          "base_uri": "https://localhost:8080/",
          "height": 1000
        },
        "id": "txsunp9cOc0j",
        "outputId": "a6b98234-5da2-43a0-ac8a-aba98812988b",
        "vscode": {
          "languageId": "r"
        }
      },
      "outputs": [
        {
          "data": {
            "text/html": [
              "<table class=\"dataframe\">\n",
              "<caption>A data.frame: 4100 × 2</caption>\n",
              "<thead>\n",
              "\t<tr><th scope=col>region</th><th scope=col>total_death</th></tr>\n",
              "\t<tr><th scope=col>&lt;chr&gt;</th><th scope=col>&lt;int&gt;</th></tr>\n",
              "</thead>\n",
              "<tbody>\n",
              "\t<tr><td>South East   </td><td> 33</td></tr>\n",
              "\t<tr><td>North East   </td><td> 32</td></tr>\n",
              "\t<tr><td>South South  </td><td> 44</td></tr>\n",
              "\t<tr><td>South East   </td><td> 19</td></tr>\n",
              "\t<tr><td>North East   </td><td> 23</td></tr>\n",
              "\t<tr><td>South South  </td><td> 28</td></tr>\n",
              "\t<tr><td>North Central</td><td> 25</td></tr>\n",
              "\t<tr><td>North East   </td><td> 38</td></tr>\n",
              "\t<tr><td>South South  </td><td> 25</td></tr>\n",
              "\t<tr><td>South South  </td><td>110</td></tr>\n",
              "\t<tr><td>South East   </td><td> 32</td></tr>\n",
              "\t<tr><td>South South  </td><td>281</td></tr>\n",
              "\t<tr><td>South West   </td><td> 28</td></tr>\n",
              "\t<tr><td>South East   </td><td> 29</td></tr>\n",
              "\t<tr><td>North Central</td><td>232</td></tr>\n",
              "\t<tr><td>North East   </td><td> 60</td></tr>\n",
              "\t<tr><td>South East   </td><td> 57</td></tr>\n",
              "\t<tr><td>North West   </td><td> 17</td></tr>\n",
              "\t<tr><td>North West   </td><td> 86</td></tr>\n",
              "\t<tr><td>North West   </td><td>122</td></tr>\n",
              "\t<tr><td>North West   </td><td> 37</td></tr>\n",
              "\t<tr><td>North West   </td><td> 16</td></tr>\n",
              "\t<tr><td>North Central</td><td>  2</td></tr>\n",
              "\t<tr><td>North Central</td><td> 64</td></tr>\n",
              "\t<tr><td>South West   </td><td>757</td></tr>\n",
              "\t<tr><td>North Central</td><td> 39</td></tr>\n",
              "\t<tr><td>North Central</td><td> 20</td></tr>\n",
              "\t<tr><td>South West   </td><td> 81</td></tr>\n",
              "\t<tr><td>South West   </td><td> 98</td></tr>\n",
              "\t<tr><td>South West   </td><td> 89</td></tr>\n",
              "\t<tr><td>⋮</td><td>⋮</td></tr>\n",
              "\t<tr><td>North West   </td><td>0</td></tr>\n",
              "\t<tr><td>South South  </td><td>0</td></tr>\n",
              "\t<tr><td>South West   </td><td>0</td></tr>\n",
              "\t<tr><td>North West   </td><td>1</td></tr>\n",
              "\t<tr><td>South West   </td><td>0</td></tr>\n",
              "\t<tr><td>South East   </td><td>0</td></tr>\n",
              "\t<tr><td>South South  </td><td>0</td></tr>\n",
              "\t<tr><td>North Central</td><td>0</td></tr>\n",
              "\t<tr><td>South South  </td><td>1</td></tr>\n",
              "\t<tr><td>South West   </td><td>0</td></tr>\n",
              "\t<tr><td>North Central</td><td>0</td></tr>\n",
              "\t<tr><td>South East   </td><td>0</td></tr>\n",
              "\t<tr><td>North Central</td><td>0</td></tr>\n",
              "\t<tr><td>South West   </td><td>2</td></tr>\n",
              "\t<tr><td>North Central</td><td>2</td></tr>\n",
              "\t<tr><td>South West   </td><td>0</td></tr>\n",
              "\t<tr><td>South South  </td><td>1</td></tr>\n",
              "\t<tr><td>South West   </td><td>0</td></tr>\n",
              "\t<tr><td>North East   </td><td>0</td></tr>\n",
              "\t<tr><td>South South  </td><td>0</td></tr>\n",
              "\t<tr><td>North West   </td><td>0</td></tr>\n",
              "\t<tr><td>South West   </td><td>0</td></tr>\n",
              "\t<tr><td>South West   </td><td>0</td></tr>\n",
              "\t<tr><td>South East   </td><td>0</td></tr>\n",
              "\t<tr><td>South South  </td><td>0</td></tr>\n",
              "\t<tr><td>North Central</td><td>0</td></tr>\n",
              "\t<tr><td>North Central</td><td>0</td></tr>\n",
              "\t<tr><td>South West   </td><td>0</td></tr>\n",
              "\t<tr><td>South South  </td><td>0</td></tr>\n",
              "\t<tr><td>North West   </td><td>1</td></tr>\n",
              "</tbody>\n",
              "</table>\n"
            ],
            "text/latex": [
              "A data.frame: 4100 × 2\n",
              "\\begin{tabular}{ll}\n",
              " region & total\\_death\\\\\n",
              " <chr> & <int>\\\\\n",
              "\\hline\n",
              "\t South East    &  33\\\\\n",
              "\t North East    &  32\\\\\n",
              "\t South South   &  44\\\\\n",
              "\t South East    &  19\\\\\n",
              "\t North East    &  23\\\\\n",
              "\t South South   &  28\\\\\n",
              "\t North Central &  25\\\\\n",
              "\t North East    &  38\\\\\n",
              "\t South South   &  25\\\\\n",
              "\t South South   & 110\\\\\n",
              "\t South East    &  32\\\\\n",
              "\t South South   & 281\\\\\n",
              "\t South West    &  28\\\\\n",
              "\t South East    &  29\\\\\n",
              "\t North Central & 232\\\\\n",
              "\t North East    &  60\\\\\n",
              "\t South East    &  57\\\\\n",
              "\t North West    &  17\\\\\n",
              "\t North West    &  86\\\\\n",
              "\t North West    & 122\\\\\n",
              "\t North West    &  37\\\\\n",
              "\t North West    &  16\\\\\n",
              "\t North Central &   2\\\\\n",
              "\t North Central &  64\\\\\n",
              "\t South West    & 757\\\\\n",
              "\t North Central &  39\\\\\n",
              "\t North Central &  20\\\\\n",
              "\t South West    &  81\\\\\n",
              "\t South West    &  98\\\\\n",
              "\t South West    &  89\\\\\n",
              "\t ⋮ & ⋮\\\\\n",
              "\t North West    & 0\\\\\n",
              "\t South South   & 0\\\\\n",
              "\t South West    & 0\\\\\n",
              "\t North West    & 1\\\\\n",
              "\t South West    & 0\\\\\n",
              "\t South East    & 0\\\\\n",
              "\t South South   & 0\\\\\n",
              "\t North Central & 0\\\\\n",
              "\t South South   & 1\\\\\n",
              "\t South West    & 0\\\\\n",
              "\t North Central & 0\\\\\n",
              "\t South East    & 0\\\\\n",
              "\t North Central & 0\\\\\n",
              "\t South West    & 2\\\\\n",
              "\t North Central & 2\\\\\n",
              "\t South West    & 0\\\\\n",
              "\t South South   & 1\\\\\n",
              "\t South West    & 0\\\\\n",
              "\t North East    & 0\\\\\n",
              "\t South South   & 0\\\\\n",
              "\t North West    & 0\\\\\n",
              "\t South West    & 0\\\\\n",
              "\t South West    & 0\\\\\n",
              "\t South East    & 0\\\\\n",
              "\t South South   & 0\\\\\n",
              "\t North Central & 0\\\\\n",
              "\t North Central & 0\\\\\n",
              "\t South West    & 0\\\\\n",
              "\t South South   & 0\\\\\n",
              "\t North West    & 1\\\\\n",
              "\\end{tabular}\n"
            ],
            "text/markdown": [
              "\n",
              "A data.frame: 4100 × 2\n",
              "\n",
              "| region &lt;chr&gt; | total_death &lt;int&gt; |\n",
              "|---|---|\n",
              "| South East    |  33 |\n",
              "| North East    |  32 |\n",
              "| South South   |  44 |\n",
              "| South East    |  19 |\n",
              "| North East    |  23 |\n",
              "| South South   |  28 |\n",
              "| North Central |  25 |\n",
              "| North East    |  38 |\n",
              "| South South   |  25 |\n",
              "| South South   | 110 |\n",
              "| South East    |  32 |\n",
              "| South South   | 281 |\n",
              "| South West    |  28 |\n",
              "| South East    |  29 |\n",
              "| North Central | 232 |\n",
              "| North East    |  60 |\n",
              "| South East    |  57 |\n",
              "| North West    |  17 |\n",
              "| North West    |  86 |\n",
              "| North West    | 122 |\n",
              "| North West    |  37 |\n",
              "| North West    |  16 |\n",
              "| North Central |   2 |\n",
              "| North Central |  64 |\n",
              "| South West    | 757 |\n",
              "| North Central |  39 |\n",
              "| North Central |  20 |\n",
              "| South West    |  81 |\n",
              "| South West    |  98 |\n",
              "| South West    |  89 |\n",
              "| ⋮ | ⋮ |\n",
              "| North West    | 0 |\n",
              "| South South   | 0 |\n",
              "| South West    | 0 |\n",
              "| North West    | 1 |\n",
              "| South West    | 0 |\n",
              "| South East    | 0 |\n",
              "| South South   | 0 |\n",
              "| North Central | 0 |\n",
              "| South South   | 1 |\n",
              "| South West    | 0 |\n",
              "| North Central | 0 |\n",
              "| South East    | 0 |\n",
              "| North Central | 0 |\n",
              "| South West    | 2 |\n",
              "| North Central | 2 |\n",
              "| South West    | 0 |\n",
              "| South South   | 1 |\n",
              "| South West    | 0 |\n",
              "| North East    | 0 |\n",
              "| South South   | 0 |\n",
              "| North West    | 0 |\n",
              "| South West    | 0 |\n",
              "| South West    | 0 |\n",
              "| South East    | 0 |\n",
              "| South South   | 0 |\n",
              "| North Central | 0 |\n",
              "| North Central | 0 |\n",
              "| South West    | 0 |\n",
              "| South South   | 0 |\n",
              "| North West    | 1 |\n",
              "\n"
            ],
            "text/plain": [
              "     region        total_death\n",
              "1    South East     33        \n",
              "2    North East     32        \n",
              "3    South South    44        \n",
              "4    South East     19        \n",
              "5    North East     23        \n",
              "6    South South    28        \n",
              "7    North Central  25        \n",
              "8    North East     38        \n",
              "9    South South    25        \n",
              "10   South South   110        \n",
              "11   South East     32        \n",
              "12   South South   281        \n",
              "13   South West     28        \n",
              "14   South East     29        \n",
              "15   North Central 232        \n",
              "16   North East     60        \n",
              "17   South East     57        \n",
              "18   North West     17        \n",
              "19   North West     86        \n",
              "20   North West    122        \n",
              "21   North West     37        \n",
              "22   North West     16        \n",
              "23   North Central   2        \n",
              "24   North Central  64        \n",
              "25   South West    757        \n",
              "26   North Central  39        \n",
              "27   North Central  20        \n",
              "28   South West     81        \n",
              "29   South West     98        \n",
              "30   South West     89        \n",
              "⋮    ⋮             ⋮          \n",
              "4071 North West    0          \n",
              "4072 South South   0          \n",
              "4073 South West    0          \n",
              "4074 North West    1          \n",
              "4075 South West    0          \n",
              "4076 South East    0          \n",
              "4077 South South   0          \n",
              "4078 North Central 0          \n",
              "4079 South South   1          \n",
              "4080 South West    0          \n",
              "4081 North Central 0          \n",
              "4082 South East    0          \n",
              "4083 North Central 0          \n",
              "4084 South West    2          \n",
              "4085 North Central 2          \n",
              "4086 South West    0          \n",
              "4087 South South   1          \n",
              "4088 South West    0          \n",
              "4089 North East    0          \n",
              "4090 South South   0          \n",
              "4091 North West    0          \n",
              "4092 South West    0          \n",
              "4093 South West    0          \n",
              "4094 South East    0          \n",
              "4095 South South   0          \n",
              "4096 North Central 0          \n",
              "4097 North Central 0          \n",
              "4098 South West    0          \n",
              "4099 South South   0          \n",
              "4100 North West    1          "
            ]
          },
          "metadata": {},
          "output_type": "display_data"
        }
      ],
      "source": [
        "#subsetting our dataframe for the region and total deaths to aid our hypothesis testing\n",
        "sub_covid_19 <- covid_data %>%\n",
        "  select(region,total_death)\n",
        "sub_covid_19"
      ]
    },
    {
      "cell_type": "markdown",
      "metadata": {
        "id": "GxNNa4ZtOon7"
      },
      "source": [
        "Having subsetted our data, we make use of ANOVA to check if there is a significant difference between the mean of the six different regions. Upon doing this, based on our result, we perform post hoc tests to examine the significance of our ANOVA results for the regions against each other."
      ]
    },
    {
      "cell_type": "code",
      "execution_count": 20,
      "metadata": {
        "colab": {
          "base_uri": "https://localhost:8080/",
          "height": 104
        },
        "id": "bwUHebsqOpMU",
        "outputId": "201d8612-7c43-4887-c395-53724c5e84f3",
        "vscode": {
          "languageId": "r"
        }
      },
      "outputs": [
        {
          "data": {
            "text/plain": [
              "              Df   Sum Sq Mean Sq F value Pr(>F)    \n",
              "region         5  1786769  357354   91.22 <2e-16 ***\n",
              "Residuals   4094 16038541    3918                   \n",
              "---\n",
              "Signif. codes:  0 ‘***’ 0.001 ‘**’ 0.01 ‘*’ 0.05 ‘.’ 0.1 ‘ ’ 1"
            ]
          },
          "metadata": {},
          "output_type": "display_data"
        }
      ],
      "source": [
        "#using anova to test our hypothesis\n",
        "anova_result <- aov(total_death ~ region, data = sub_covid_19)\n",
        "summary(anova_result) #observing the results/summary of our hypothesis testing"
      ]
    },
    {
      "cell_type": "code",
      "execution_count": null,
      "metadata": {
        "id": "qh5rqyIunOwz",
        "vscode": {
          "languageId": "r"
        }
      },
      "outputs": [],
      "source": []
    },
    {
      "cell_type": "code",
      "execution_count": 21,
      "metadata": {
        "colab": {
          "base_uri": "https://localhost:8080/",
          "height": 399
        },
        "id": "5V8xoKt3O3pX",
        "outputId": "a782af95-3c80-48df-b6c9-194b0a931121",
        "vscode": {
          "languageId": "r"
        }
      },
      "outputs": [
        {
          "data": {
            "text/plain": [
              "  Tukey multiple comparisons of means\n",
              "    95% family-wise confidence level\n",
              "\n",
              "Fit: aov(formula = total_death ~ region, data = sub_covid_19)\n",
              "\n",
              "$region\n",
              "                                diff        lwr       upr     p adj\n",
              "North East-North Central  -10.115722 -19.574273 -0.657172 0.0279505\n",
              "North West-North Central   -3.483692 -12.543109  5.575725 0.8830174\n",
              "South East-North Central  -11.592658 -21.534032 -1.651284 0.0115155\n",
              "South South-North Central  19.139010   9.664873 28.613147 0.0000002\n",
              "South West-North Central   48.654239  39.282231 58.026248 0.0000000\n",
              "North West-North East       6.632030  -2.815332 16.079392 0.3415416\n",
              "South East-North East      -1.476936 -11.773077  8.819205 0.9985382\n",
              "South South-North East     29.254732  19.408978 39.100487 0.0000000\n",
              "South West-North East      58.769962  49.022441 68.517482 0.0000000\n",
              "South East-North West      -8.108966 -18.039695  1.821764 0.1829583\n",
              "South South-North West     22.622703  13.159736 32.085669 0.0000000\n",
              "South West-North West      52.137932  42.777215 61.498649 0.0000000\n",
              "South South-South East     30.731668  20.421207 41.042130 0.0000000\n",
              "South West-South East      60.246897  50.030200 70.463595 0.0000000\n",
              "South West-South South     29.515229  19.752583 39.277875 0.0000000\n"
            ]
          },
          "metadata": {},
          "output_type": "display_data"
        }
      ],
      "source": [
        "#performing post hoc test using turkey HSD to understand specific differences between the mean of each regions after determining that there is a significant overall difference.\n",
        "tukey_result <- TukeyHSD(anova_result)\n",
        "\n",
        "tukey_result"
      ]
    },
    {
      "cell_type": "markdown",
      "metadata": {
        "id": "Yy4sanyLO7lE"
      },
      "source": [
        "Finally, our results will be further explained [here]().\n",
        "\n",
        "To better understand and see our results, we group our regions by the mean average death as seen below"
      ]
    },
    {
      "cell_type": "code",
      "execution_count": 23,
      "metadata": {
        "id": "eAqkWpPZO8y8",
        "vscode": {
          "languageId": "r"
        }
      },
      "outputs": [],
      "source": [
        "#Confirming our results by the mean of each group\n",
        "summary_group <- covid_data %>%\n",
        "  group_by(region) %>%\n",
        "  summarise(\n",
        "    avg_death = mean(total_death)\n",
        "  )"
      ]
    },
    {
      "cell_type": "markdown",
      "metadata": {
        "id": "1PV7lPz8PFYs"
      },
      "source": [
        "Next, we sort this mean death in ascending order."
      ]
    },
    {
      "cell_type": "code",
      "execution_count": 24,
      "metadata": {
        "colab": {
          "base_uri": "https://localhost:8080/",
          "height": 286
        },
        "id": "ZMc0VIQMPGA3",
        "outputId": "9bafc696-64ae-4f9c-8dbd-89f589c2b52f",
        "vscode": {
          "languageId": "r"
        }
      },
      "outputs": [
        {
          "data": {
            "text/html": [
              "<table class=\"dataframe\">\n",
              "<caption>A tibble: 6 × 2</caption>\n",
              "<thead>\n",
              "\t<tr><th scope=col>region</th><th scope=col>avg_death</th></tr>\n",
              "\t<tr><th scope=col>&lt;fct&gt;</th><th scope=col>&lt;dbl&gt;</th></tr>\n",
              "</thead>\n",
              "<tbody>\n",
              "\t<tr><td>South East   </td><td>17.73551</td></tr>\n",
              "\t<tr><td>North East   </td><td>19.21244</td></tr>\n",
              "\t<tr><td>North West   </td><td>25.84447</td></tr>\n",
              "\t<tr><td>North Central</td><td>29.32817</td></tr>\n",
              "\t<tr><td>South South  </td><td>48.46718</td></tr>\n",
              "\t<tr><td>South West   </td><td>77.98240</td></tr>\n",
              "</tbody>\n",
              "</table>\n"
            ],
            "text/latex": [
              "A tibble: 6 × 2\n",
              "\\begin{tabular}{ll}\n",
              " region & avg\\_death\\\\\n",
              " <fct> & <dbl>\\\\\n",
              "\\hline\n",
              "\t South East    & 17.73551\\\\\n",
              "\t North East    & 19.21244\\\\\n",
              "\t North West    & 25.84447\\\\\n",
              "\t North Central & 29.32817\\\\\n",
              "\t South South   & 48.46718\\\\\n",
              "\t South West    & 77.98240\\\\\n",
              "\\end{tabular}\n"
            ],
            "text/markdown": [
              "\n",
              "A tibble: 6 × 2\n",
              "\n",
              "| region &lt;fct&gt; | avg_death &lt;dbl&gt; |\n",
              "|---|---|\n",
              "| South East    | 17.73551 |\n",
              "| North East    | 19.21244 |\n",
              "| North West    | 25.84447 |\n",
              "| North Central | 29.32817 |\n",
              "| South South   | 48.46718 |\n",
              "| South West    | 77.98240 |\n",
              "\n"
            ],
            "text/plain": [
              "          region        avg_death\n",
              "Abia      South East    17.73551 \n",
              "Adamawa   North East    19.21244 \n",
              "Jigawa    North West    25.84447 \n",
              "Benue     North Central 29.32817 \n",
              "Akwa Ibom South South   48.46718 \n",
              "Ekiti     South West    77.98240 "
            ]
          },
          "metadata": {},
          "output_type": "display_data"
        }
      ],
      "source": [
        "#reordering our summarized data in ascending order\n",
        "\n",
        "summary_group_sorted <- summary_group[order(summary_group$avg_death), ]\n",
        "\n",
        "summary_group_sorted$region <- factor(summary_group_sorted$region, levels = summary_group_sorted$region)\n",
        "summary_group_sorted"
      ]
    },
    {
      "cell_type": "markdown",
      "metadata": {
        "id": "lbesq9N0PNoG"
      },
      "source": [
        "We plot the region by their average death, and return this visual"
      ]
    },
    {
      "cell_type": "code",
      "execution_count": 25,
      "metadata": {
        "colab": {
          "base_uri": "https://localhost:8080/",
          "height": 437
        },
        "id": "eYcUOzidPOT_",
        "outputId": "ea283329-e5ca-4579-e13f-cf2bd943b656",
        "vscode": {
          "languageId": "r"
        }
      },
      "outputs": [
        {
          "data": {
            "image/png": "[encoded data removed]",
            "text/plain": [
              "plot without title"
            ]
          },
          "metadata": {
            "image/png": {
              "height": 420,
              "width": 420
            }
          },
          "output_type": "display_data"
        }
      ],
      "source": [
        "#plotting the mean value of each region\n",
        "covid_19_reg_avg <- ggplot(summary_group_sorted,aes(x = region,y =avg_death))+\n",
        "  geom_bar(stat = 'identity', fill = \"blue\", colour = 'blue', size = 1)+\n",
        "  labs(title = \"Average Death Rates by Region\") +\n",
        "  xlab(\"Region\") + ylab(\"Average Death\")\n",
        "\n",
        "\n",
        "covid_19_reg_avg"
      ]
    },
    {
      "cell_type": "markdown",
      "metadata": {
        "id": "Jct6A7LkPbxp"
      },
      "source": [
        "For detailed explanation, result, report and recommendation, kindly see the attached document \n",
        "\n",
        "The end..........\n"
      ]
    }
  ],
  "metadata": {
    "colab": {
      "provenance": []
    },
    "kernelspec": {
      "display_name": "R",
      "name": "ir"
    },
    "language_info": {
      "name": "R"
    }
  },
  "nbformat": 4,
  "nbformat_minor": 0
}
